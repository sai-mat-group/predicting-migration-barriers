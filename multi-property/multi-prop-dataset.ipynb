{
 "cells": [
  {
   "cell_type": "markdown",
   "id": "0f35b196-4b51-4f3a-a024-5dff53857512",
   "metadata": {
    "tags": []
   },
   "source": [
    "# How to concatenate datasets using `Pandas`"
   ]
  },
  {
   "cell_type": "code",
   "execution_count": null,
   "id": "f4d9065d-e19d-49d3-ae46-aa2793af5984",
   "metadata": {},
   "outputs": [],
   "source": [
    "import pandas as pd"
   ]
  },
  {
   "cell_type": "markdown",
   "id": "b3b47569-a16c-491c-8d8c-f99b40a92784",
   "metadata": {},
   "source": [
    "## Set up the datasets"
   ]
  },
  {
   "cell_type": "code",
   "execution_count": 19,
   "id": "93bc26f3-e1a3-42ec-8013-88ed80793f67",
   "metadata": {
    "tags": []
   },
   "outputs": [],
   "source": [
    "df1 = pd.DataFrame(\n",
    "    {\n",
    "        \"mat-id\": [\"A0\", \"A1\", \"A2\", \"A3\"],\n",
    "        \"formation_energy\": [0.1, 0.2, 0.3, 0.4],\n",
    "        \"band_gap\": [0.1, 0.2, 0.3, 0.4],\n",
    "        \"bulk_modulus\": [0.1, 0.2, 0.3, 0.4],\n",
    "    },\n",
    "    index=[0, 1, 2, 3],\n",
    ")"
   ]
  },
  {
   "cell_type": "code",
   "execution_count": 20,
   "id": "ad2ba99b-2ce7-4f83-b51b-3094a977e2d7",
   "metadata": {
    "tags": []
   },
   "outputs": [],
   "source": [
    "df2 = pd.DataFrame(\n",
    "    {\n",
    "        \"mat-id\": [\"A0\", \"A4\"],\n",
    "        \"phonon\": [4, 5],\n",
    "    },\n",
    "    index=[0, 1],\n",
    ")"
   ]
  },
  {
   "cell_type": "markdown",
   "id": "e6fa9f4c-c973-48b5-8ccd-3a91047f8e71",
   "metadata": {},
   "source": [
    "## Look at the two dataframes"
   ]
  },
  {
   "cell_type": "code",
   "execution_count": 21,
   "id": "46fbe42f-3671-47b9-ab80-90f975ca84a5",
   "metadata": {
    "tags": []
   },
   "outputs": [
    {
     "data": {
      "text/html": [
       "<div>\n",
       "<style scoped>\n",
       "    .dataframe tbody tr th:only-of-type {\n",
       "        vertical-align: middle;\n",
       "    }\n",
       "\n",
       "    .dataframe tbody tr th {\n",
       "        vertical-align: top;\n",
       "    }\n",
       "\n",
       "    .dataframe thead th {\n",
       "        text-align: right;\n",
       "    }\n",
       "</style>\n",
       "<table border=\"1\" class=\"dataframe\">\n",
       "  <thead>\n",
       "    <tr style=\"text-align: right;\">\n",
       "      <th></th>\n",
       "      <th>mat-id</th>\n",
       "      <th>formation_energy</th>\n",
       "      <th>band_gap</th>\n",
       "      <th>bulk_modulus</th>\n",
       "    </tr>\n",
       "  </thead>\n",
       "  <tbody>\n",
       "    <tr>\n",
       "      <th>0</th>\n",
       "      <td>A0</td>\n",
       "      <td>0.1</td>\n",
       "      <td>0.1</td>\n",
       "      <td>0.1</td>\n",
       "    </tr>\n",
       "    <tr>\n",
       "      <th>1</th>\n",
       "      <td>A1</td>\n",
       "      <td>0.2</td>\n",
       "      <td>0.2</td>\n",
       "      <td>0.2</td>\n",
       "    </tr>\n",
       "    <tr>\n",
       "      <th>2</th>\n",
       "      <td>A2</td>\n",
       "      <td>0.3</td>\n",
       "      <td>0.3</td>\n",
       "      <td>0.3</td>\n",
       "    </tr>\n",
       "    <tr>\n",
       "      <th>3</th>\n",
       "      <td>A3</td>\n",
       "      <td>0.4</td>\n",
       "      <td>0.4</td>\n",
       "      <td>0.4</td>\n",
       "    </tr>\n",
       "  </tbody>\n",
       "</table>\n",
       "</div>"
      ],
      "text/plain": [
       "  mat-id  formation_energy  band_gap  bulk_modulus\n",
       "0     A0               0.1       0.1           0.1\n",
       "1     A1               0.2       0.2           0.2\n",
       "2     A2               0.3       0.3           0.3\n",
       "3     A3               0.4       0.4           0.4"
      ]
     },
     "execution_count": 21,
     "metadata": {},
     "output_type": "execute_result"
    }
   ],
   "source": [
    "df1.head()"
   ]
  },
  {
   "cell_type": "code",
   "execution_count": 22,
   "id": "425ee114-8879-4791-93c3-1fa2432c35a3",
   "metadata": {
    "tags": []
   },
   "outputs": [
    {
     "data": {
      "text/html": [
       "<div>\n",
       "<style scoped>\n",
       "    .dataframe tbody tr th:only-of-type {\n",
       "        vertical-align: middle;\n",
       "    }\n",
       "\n",
       "    .dataframe tbody tr th {\n",
       "        vertical-align: top;\n",
       "    }\n",
       "\n",
       "    .dataframe thead th {\n",
       "        text-align: right;\n",
       "    }\n",
       "</style>\n",
       "<table border=\"1\" class=\"dataframe\">\n",
       "  <thead>\n",
       "    <tr style=\"text-align: right;\">\n",
       "      <th></th>\n",
       "      <th>mat-id</th>\n",
       "      <th>phonon</th>\n",
       "    </tr>\n",
       "  </thead>\n",
       "  <tbody>\n",
       "    <tr>\n",
       "      <th>0</th>\n",
       "      <td>A0</td>\n",
       "      <td>4</td>\n",
       "    </tr>\n",
       "    <tr>\n",
       "      <th>1</th>\n",
       "      <td>A4</td>\n",
       "      <td>5</td>\n",
       "    </tr>\n",
       "  </tbody>\n",
       "</table>\n",
       "</div>"
      ],
      "text/plain": [
       "  mat-id  phonon\n",
       "0     A0       4\n",
       "1     A4       5"
      ]
     },
     "execution_count": 22,
     "metadata": {},
     "output_type": "execute_result"
    }
   ],
   "source": [
    "df2.head()"
   ]
  },
  {
   "cell_type": "markdown",
   "id": "0cff5727-0208-4155-97a0-e7d30dbf6cda",
   "metadata": {
    "tags": []
   },
   "source": [
    "## Step 1: Concatenate the two dataframes \n",
    "\n",
    "This will result in a new dataframe, with columns for all properties. However, entries with the same `mat-id` will be repeated"
   ]
  },
  {
   "cell_type": "code",
   "execution_count": 23,
   "id": "c84abec2-59a8-43e0-8a21-afdf4cb11053",
   "metadata": {
    "tags": []
   },
   "outputs": [
    {
     "data": {
      "text/html": [
       "<div>\n",
       "<style scoped>\n",
       "    .dataframe tbody tr th:only-of-type {\n",
       "        vertical-align: middle;\n",
       "    }\n",
       "\n",
       "    .dataframe tbody tr th {\n",
       "        vertical-align: top;\n",
       "    }\n",
       "\n",
       "    .dataframe thead th {\n",
       "        text-align: right;\n",
       "    }\n",
       "</style>\n",
       "<table border=\"1\" class=\"dataframe\">\n",
       "  <thead>\n",
       "    <tr style=\"text-align: right;\">\n",
       "      <th></th>\n",
       "      <th>mat-id</th>\n",
       "      <th>formation_energy</th>\n",
       "      <th>band_gap</th>\n",
       "      <th>bulk_modulus</th>\n",
       "      <th>phonon</th>\n",
       "    </tr>\n",
       "  </thead>\n",
       "  <tbody>\n",
       "    <tr>\n",
       "      <th>0</th>\n",
       "      <td>A0</td>\n",
       "      <td>0.1</td>\n",
       "      <td>0.1</td>\n",
       "      <td>0.1</td>\n",
       "      <td>NaN</td>\n",
       "    </tr>\n",
       "    <tr>\n",
       "      <th>1</th>\n",
       "      <td>A1</td>\n",
       "      <td>0.2</td>\n",
       "      <td>0.2</td>\n",
       "      <td>0.2</td>\n",
       "      <td>NaN</td>\n",
       "    </tr>\n",
       "    <tr>\n",
       "      <th>2</th>\n",
       "      <td>A2</td>\n",
       "      <td>0.3</td>\n",
       "      <td>0.3</td>\n",
       "      <td>0.3</td>\n",
       "      <td>NaN</td>\n",
       "    </tr>\n",
       "    <tr>\n",
       "      <th>3</th>\n",
       "      <td>A3</td>\n",
       "      <td>0.4</td>\n",
       "      <td>0.4</td>\n",
       "      <td>0.4</td>\n",
       "      <td>NaN</td>\n",
       "    </tr>\n",
       "    <tr>\n",
       "      <th>4</th>\n",
       "      <td>A0</td>\n",
       "      <td>NaN</td>\n",
       "      <td>NaN</td>\n",
       "      <td>NaN</td>\n",
       "      <td>4.0</td>\n",
       "    </tr>\n",
       "  </tbody>\n",
       "</table>\n",
       "</div>"
      ],
      "text/plain": [
       "  mat-id  formation_energy  band_gap  bulk_modulus  phonon\n",
       "0     A0               0.1       0.1           0.1     NaN\n",
       "1     A1               0.2       0.2           0.2     NaN\n",
       "2     A2               0.3       0.3           0.3     NaN\n",
       "3     A3               0.4       0.4           0.4     NaN\n",
       "4     A0               NaN       NaN           NaN     4.0"
      ]
     },
     "execution_count": 23,
     "metadata": {},
     "output_type": "execute_result"
    }
   ],
   "source": [
    "df3 = pd.concat([df1,df2], axis=0, ignore_index=True)\n",
    "df3.head()"
   ]
  },
  {
   "cell_type": "markdown",
   "id": "3c3adf7b-abc0-4c6e-8f33-9129f09ec91a",
   "metadata": {},
   "source": [
    "## Step 2: Aggregate the values\n",
    "\n",
    "We group all of the rows with the same `mat-id`, we define an `aggregation_function` that tells `pandas` what to do with the colums of the groups.\n",
    "Here we set this to `sum` so if a `mat-id` appears more than one, we sum up all the entries in each column, this is fine as they will be `NaN` for exitising property columns in any newly added column."
   ]
  },
  {
   "cell_type": "code",
   "execution_count": 28,
   "id": "e032ce46-2f22-4d8b-94d0-97a0f4d5b02e",
   "metadata": {
    "tags": []
   },
   "outputs": [
    {
     "data": {
      "text/html": [
       "<div>\n",
       "<style scoped>\n",
       "    .dataframe tbody tr th:only-of-type {\n",
       "        vertical-align: middle;\n",
       "    }\n",
       "\n",
       "    .dataframe tbody tr th {\n",
       "        vertical-align: top;\n",
       "    }\n",
       "\n",
       "    .dataframe thead th {\n",
       "        text-align: right;\n",
       "    }\n",
       "</style>\n",
       "<table border=\"1\" class=\"dataframe\">\n",
       "  <thead>\n",
       "    <tr style=\"text-align: right;\">\n",
       "      <th></th>\n",
       "      <th>formation_energy</th>\n",
       "      <th>band_gap</th>\n",
       "      <th>bulk_modulus</th>\n",
       "      <th>phonon</th>\n",
       "    </tr>\n",
       "    <tr>\n",
       "      <th>mat-id</th>\n",
       "      <th></th>\n",
       "      <th></th>\n",
       "      <th></th>\n",
       "      <th></th>\n",
       "    </tr>\n",
       "  </thead>\n",
       "  <tbody>\n",
       "    <tr>\n",
       "      <th>A0</th>\n",
       "      <td>0.1</td>\n",
       "      <td>0.1</td>\n",
       "      <td>0.1</td>\n",
       "      <td>4.0</td>\n",
       "    </tr>\n",
       "    <tr>\n",
       "      <th>A1</th>\n",
       "      <td>0.2</td>\n",
       "      <td>0.2</td>\n",
       "      <td>0.2</td>\n",
       "      <td>0.0</td>\n",
       "    </tr>\n",
       "    <tr>\n",
       "      <th>A2</th>\n",
       "      <td>0.3</td>\n",
       "      <td>0.3</td>\n",
       "      <td>0.3</td>\n",
       "      <td>0.0</td>\n",
       "    </tr>\n",
       "    <tr>\n",
       "      <th>A3</th>\n",
       "      <td>0.4</td>\n",
       "      <td>0.4</td>\n",
       "      <td>0.4</td>\n",
       "      <td>0.0</td>\n",
       "    </tr>\n",
       "    <tr>\n",
       "      <th>A4</th>\n",
       "      <td>0.0</td>\n",
       "      <td>0.0</td>\n",
       "      <td>0.0</td>\n",
       "      <td>5.0</td>\n",
       "    </tr>\n",
       "  </tbody>\n",
       "</table>\n",
       "</div>"
      ],
      "text/plain": [
       "        formation_energy  band_gap  bulk_modulus  phonon\n",
       "mat-id                                                  \n",
       "A0                   0.1       0.1           0.1     4.0\n",
       "A1                   0.2       0.2           0.2     0.0\n",
       "A2                   0.3       0.3           0.3     0.0\n",
       "A3                   0.4       0.4           0.4     0.0\n",
       "A4                   0.0       0.0           0.0     5.0"
      ]
     },
     "execution_count": 28,
     "metadata": {},
     "output_type": "execute_result"
    }
   ],
   "source": [
    "aggregation_functions = {'formation_energy': 'sum', 'band_gap': 'sum', 'bulk_modulus': 'sum', 'phonon': 'sum'}\n",
    "df_new = df3.groupby(df3['mat-id']).aggregate(aggregation_functions)\n",
    "df_new.head()"
   ]
  }
 ],
 "metadata": {
  "kernelspec": {
   "display_name": "Python 3 (ipykernel)",
   "language": "python",
   "name": "python3"
  },
  "language_info": {
   "codemirror_mode": {
    "name": "ipython",
    "version": 3
   },
   "file_extension": ".py",
   "mimetype": "text/x-python",
   "name": "python",
   "nbconvert_exporter": "python",
   "pygments_lexer": "ipython3",
   "version": "3.9.16"
  }
 },
 "nbformat": 4,
 "nbformat_minor": 5
}
